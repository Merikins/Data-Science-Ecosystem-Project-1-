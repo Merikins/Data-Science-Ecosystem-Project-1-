{
 "cells": [
  {
   "cell_type": "markdown",
   "id": "44a9f412-a073-462d-a8c7-a66cbbf05895",
   "metadata": {},
   "source": [
    "# Data Science Tools and Ecosystems "
   ]
  },
  {
   "cell_type": "markdown",
   "id": "8d387cbe-cce1-44c1-998c-7b13a307d30e",
   "metadata": {},
   "source": [
    "In this notebook, Data Science Tools and Ecosystems are summarised. "
   ]
  },
  {
   "cell_type": "markdown",
   "id": "2ae1c369-fc0b-4c01-a5e8-2d325cc92407",
   "metadata": {},
   "source": [
    "**Objectives**\n",
    "- List popular Data Science Tools\n",
    "- Identify popular Data Science programming languages\n",
    "- Perform basic arithmetic code \n",
    "- Creating a Jupyter Notebook\n",
    "- Identifying popular Data Science Libraries "
   ]
  },
  {
   "cell_type": "markdown",
   "id": "a6b7c636-29be-4b15-920c-95a35285aa12",
   "metadata": {},
   "source": [
    "Some of the popular languages Data Scientists use are\n",
    "1. Python\n",
    "2. Java\n",
    "3. C++\n",
    "4. R\n",
    "5. C#\n",
    "6. SQL\n"
   ]
  },
  {
   "cell_type": "markdown",
   "id": "0561b8bc-eb7c-44fe-a72f-d47d70cc2677",
   "metadata": {},
   "source": [
    "Some of the commonly used libraries used by Data Scientists include:\n",
    "1. Pandas\n",
    "2. Numpy\n",
    "3. PyTorch\n",
    "4. Plotly\n",
    "5. SciKit-Learn\n"
   ]
  },
  {
   "cell_type": "markdown",
   "id": "6f5bf5db-e7ac-47c5-94bb-e3e81812c41a",
   "metadata": {},
   "source": [
    "\n",
    "| Data Science Tools |\n",
    "| -------------------| \n",
    "| TensorFlow |\n",
    "| Jupyter |\n",
    "| R Studio |\n"
   ]
  },
  {
   "cell_type": "markdown",
   "id": "2327ece4-cafe-4b34-b4dc-01995cc2b07f",
   "metadata": {},
   "source": [
    "###  Below are a few examples of evaluating arithmetic expressions in Python "
   ]
  },
  {
   "cell_type": "code",
   "execution_count": 7,
   "id": "db038a8b-b275-4aac-a332-e773e12e0818",
   "metadata": {},
   "outputs": [
    {
     "name": "stdout",
     "output_type": "stream",
     "text": [
      "This a simple arithmetic expression to mutiply then add integers\n"
     ]
    },
    {
     "data": {
      "text/plain": [
       "17"
      ]
     },
     "execution_count": 7,
     "metadata": {},
     "output_type": "execute_result"
    }
   ],
   "source": [
    "print (\"This a simple arithmetic expression to mutiply then add integers\")\n",
    "(3*4)+5\n"
   ]
  },
  {
   "cell_type": "code",
   "execution_count": 8,
   "id": "584bed6f-9e8d-40d3-8c70-830fbda305d5",
   "metadata": {},
   "outputs": [
    {
     "name": "stdout",
     "output_type": "stream",
     "text": [
      "This will convert 200 minutes to hours by diving by 60\n"
     ]
    },
    {
     "data": {
      "text/plain": [
       "3.3333333333333335"
      ]
     },
     "execution_count": 8,
     "metadata": {},
     "output_type": "execute_result"
    }
   ],
   "source": [
    "print (\"This will convert 200 minutes to hours by diving by 60\")\n",
    "200/60"
   ]
  },
  {
   "cell_type": "markdown",
   "id": "8dd0c043-a953-4921-b421-74013561c91c",
   "metadata": {},
   "source": [
    "## Author\n",
    "\n",
    "Merisha Maharaj "
   ]
  },
  {
   "cell_type": "code",
   "execution_count": null,
   "id": "21fc14bb-398e-4a44-b851-1dfd4cf23d52",
   "metadata": {},
   "outputs": [],
   "source": []
  }
 ],
 "metadata": {
  "kernelspec": {
   "display_name": "Python 3 (ipykernel)",
   "language": "python",
   "name": "python3"
  },
  "language_info": {
   "codemirror_mode": {
    "name": "ipython",
    "version": 3
   },
   "file_extension": ".py",
   "mimetype": "text/x-python",
   "name": "python",
   "nbconvert_exporter": "python",
   "pygments_lexer": "ipython3",
   "version": "3.12.9"
  }
 },
 "nbformat": 4,
 "nbformat_minor": 5
}
